{
 "cells": [
  {
   "cell_type": "markdown",
   "metadata": {},
   "source": [
    "# Phython module for FRI sampling: Demonstation\n",
    "\n"
   ]
  },
  {
   "cell_type": "markdown",
   "metadata": {},
   "source": [
    "# Time Domain Reconstruction"
   ]
  },
  {
   "cell_type": "markdown",
   "metadata": {},
   "source": [
    "## Instanciation"
   ]
  },
  {
   "cell_type": "code",
   "execution_count": null,
   "metadata": {},
   "outputs": [],
   "source": [
    "from fri_oo.irr_time_samp import IrrTimeSamp as ITS"
   ]
  },
  {
   "cell_type": "code",
   "execution_count": null,
   "metadata": {},
   "outputs": [],
   "source": [
    "K = 5\n",
    "tau = 1.\n",
    "M = K\n",
    "L = 2 * M + 1\n",
    "B = (2. * M + 1)\n",
    "\n",
    "ITS_noiseless = ITS(K, tau, B, L)"
   ]
  },
  {
   "cell_type": "markdown",
   "metadata": {},
   "source": [
    "## setup"
   ]
  },
  {
   "cell_type": "code",
   "execution_count": null,
   "metadata": {},
   "outputs": [],
   "source": [
    "ITS_noiseless.setup()\n",
    "ITS_noiseless.add_noise()"
   ]
  },
  {
   "cell_type": "markdown",
   "metadata": {},
   "source": [
    "## reconstruction and results storage"
   ]
  },
  {
   "cell_type": "code",
   "execution_count": null,
   "metadata": {},
   "outputs": [],
   "source": [
    "ITS_noiseless.reconstruction()\n",
    "ITS_noiseless.save_results(\"ITS_noiseless_example\")"
   ]
  },
  {
   "cell_type": "markdown",
   "metadata": {},
   "source": [
    "## data and plot display"
   ]
  },
  {
   "cell_type": "code",
   "execution_count": null,
   "metadata": {},
   "outputs": [],
   "source": [
    "ITS_noiseless.show_results()"
   ]
  },
  {
   "cell_type": "code",
   "execution_count": null,
   "metadata": {},
   "outputs": [],
   "source": [
    "ITS_noiseless.plot()"
   ]
  },
  {
   "cell_type": "markdown",
   "metadata": {},
   "source": [
    "## Noisy Time Domain Reconstruction"
   ]
  },
  {
   "cell_type": "code",
   "execution_count": null,
   "metadata": {},
   "outputs": [],
   "source": [
    "M = K * 8\n",
    "L = 2 * M + 1\n",
    "B = (2. * M + 1)\n",
    "P = 5\n",
    "\n",
    "ITS_noisy = ITS(K, tau, B, L)\n",
    "ITS_noisy.setup()\n",
    "ITS_noisy.add_noise(P = P)\n",
    "ITS_noisy.reconstruction(max_ini = 50)\n",
    "ITS_noisy.save_results(\"ITS_noisy\")"
   ]
  },
  {
   "cell_type": "code",
   "execution_count": null,
   "metadata": {},
   "outputs": [],
   "source": [
    "print(ITS_noisy.show_results())"
   ]
  },
  {
   "cell_type": "code",
   "execution_count": null,
   "metadata": {},
   "outputs": [],
   "source": [
    "ITS_noisy.plot(save_fig = True, fig_format = 'jpg')"
   ]
  },
  {
   "cell_type": "markdown",
   "metadata": {},
   "source": [
    "## giving parameters reconstruction"
   ]
  },
  {
   "cell_type": "code",
   "execution_count": null,
   "metadata": {},
   "outputs": [],
   "source": [
    "import numpy as np\n",
    "\n",
    "K = ITS_noiseless.K\n",
    "tau = ITS_noiseless.tau\n",
    "B = ITS_noiseless.B\n",
    "L = ITS_noiseless.L\n",
    "t_samp = ITS_noiseless.t_samp\n",
    "yl = ITS_noiseless.yl\n",
    "G = ITS_noiseless.G\n",
    "a = np.column_stack((t_samp, yl))\n",
    "\n",
    "ITS_2 = ITS(K, tau, B, L)\n",
    "ITS_2.setup(G = G, a = a)\n",
    "ITS_2.add_noise()"
   ]
  },
  {
   "cell_type": "code",
   "execution_count": null,
   "metadata": {},
   "outputs": [],
   "source": [
    "ITS_2.reconstruction()\n",
    "ITS_2.show_results()"
   ]
  },
  {
   "cell_type": "code",
   "execution_count": null,
   "metadata": {},
   "outputs": [],
   "source": [
    "ITS_2.save_results(\"ITS_param\")\n",
    "ITS_2.plot(save_fig = True, fig_format = 'jpg')"
   ]
  },
  {
   "cell_type": "markdown",
   "metadata": {},
   "source": [
    "# Fourier Domain Reconstruction\n",
    "\n",
    "## instantiation"
   ]
  },
  {
   "cell_type": "code",
   "execution_count": null,
   "metadata": {},
   "outputs": [],
   "source": [
    "from fri_oo.irr_four_samp import IrrFourSamp as IFS\n",
    "\n",
    "K = 5\n",
    "M = 21\n",
    "tau = 1.\n",
    "L = M\n",
    "\n",
    "IFS_noiseless = IFS(K, M, tau, L)"
   ]
  },
  {
   "cell_type": "markdown",
   "metadata": {},
   "source": [
    "## setup"
   ]
  },
  {
   "cell_type": "code",
   "execution_count": null,
   "metadata": {},
   "outputs": [],
   "source": [
    "IFS_noiseless.setup()\n",
    "IFS_noiseless.add_noise()"
   ]
  },
  {
   "cell_type": "markdown",
   "metadata": {},
   "source": [
    "## reconstruction and result storage"
   ]
  },
  {
   "cell_type": "code",
   "execution_count": null,
   "metadata": {},
   "outputs": [],
   "source": [
    "IFS_noiseless.reconstruction()\n",
    "IFS_noiseless.save_results(\"IFS_noiseless\")"
   ]
  },
  {
   "cell_type": "code",
   "execution_count": null,
   "metadata": {},
   "outputs": [],
   "source": [
    "IFS_noiseless.show_results()"
   ]
  },
  {
   "cell_type": "markdown",
   "metadata": {},
   "source": [
    "## data and plot display"
   ]
  },
  {
   "cell_type": "code",
   "execution_count": null,
   "metadata": {},
   "outputs": [],
   "source": [
    "IFS_noiseless.plot(save_fig = True, fig_format = 'jpg')"
   ]
  },
  {
   "cell_type": "markdown",
   "metadata": {},
   "source": [
    "## Noisy Fourier domain reconstruction"
   ]
  },
  {
   "cell_type": "code",
   "execution_count": null,
   "metadata": {},
   "outputs": [],
   "source": [
    "    K = 5\n",
    "    M = 21\n",
    "    tau = 1.\n",
    "    L = 2 * M                       # here we oversample since we will be adding noise\n",
    "    P = 5                           # SNR ratio in dB\n",
    "\n",
    "    IFS_noisy = IFS(K, M, tau, L)\n",
    "    IFS_noisy.setup()\n",
    "    IFS_noisy.add_noise(P = P)"
   ]
  },
  {
   "cell_type": "code",
   "execution_count": null,
   "metadata": {},
   "outputs": [],
   "source": [
    "IFS_noisy.reconstruction()"
   ]
  },
  {
   "cell_type": "code",
   "execution_count": null,
   "metadata": {},
   "outputs": [],
   "source": [
    "print(IFS_noisy.show_results())"
   ]
  },
  {
   "cell_type": "code",
   "execution_count": null,
   "metadata": {},
   "outputs": [],
   "source": [
    "IFS_noisy.save_results(\"IFS_noisy\")\n",
    "IFS_noisy.plot(save_fig = True, fig_format = 'jpg')"
   ]
  },
  {
   "cell_type": "markdown",
   "metadata": {},
   "source": [
    "## Given parameters reconstruction"
   ]
  },
  {
   "cell_type": "code",
   "execution_count": null,
   "metadata": {},
   "outputs": [],
   "source": [
    "K = 5\n",
    "M = 21\n",
    "tau = 1.\n",
    "L = M\n",
    "\n",
    "IFS2 = IFS(K, M, tau, L)\n",
    "\n",
    "Xomega_ell = IFS_noiseless.Xomega_ell\n",
    "omega_ell = IFS_noiseless.omega_ell\n",
    "\n",
    "a = np.column_stack((omega_ell, Xomega_ell))\n",
    "\n",
    "IFS2.setup(a = a)\n",
    "IFS2.add_noise()"
   ]
  },
  {
   "cell_type": "code",
   "execution_count": null,
   "metadata": {},
   "outputs": [],
   "source": [
    "IFS2.reconstruction(max_ini = 100)"
   ]
  },
  {
   "cell_type": "code",
   "execution_count": null,
   "metadata": {},
   "outputs": [],
   "source": [
    "IFS2.show_results()"
   ]
  },
  {
   "cell_type": "code",
   "execution_count": null,
   "metadata": {},
   "outputs": [],
   "source": [
    "IFS2.save_results(\"IFS2\")\n",
    "IFS2.plot(save_fig = True, fig_format = 'jpg')"
   ]
  },
  {
   "cell_type": "markdown",
   "metadata": {},
   "source": [
    "## aperiodic fourier domain reconstruction noiseless\n",
    "\n",
    "## instanciation"
   ]
  },
  {
   "cell_type": "code",
   "execution_count": null,
   "metadata": {},
   "outputs": [],
   "source": [
    "K = 5\n",
    "M = 21\n",
    "tau = 1.\n",
    "L = 2 * M\n",
    "\n",
    "IFS_A_noiseless = IFS(K, M, tau, L, periodic_spectrum = False)\n",
    "IFS_A_noiseless.setup()\n",
    "IFS_A_noiseless.add_noise()"
   ]
  },
  {
   "cell_type": "markdown",
   "metadata": {},
   "source": [
    "## reconstruction"
   ]
  },
  {
   "cell_type": "code",
   "execution_count": null,
   "metadata": {},
   "outputs": [],
   "source": [
    "IFS_A_noiseless.reconstruction()\n",
    "print(\"error: \" + str(IFS_A_noiseless.t_error))"
   ]
  },
  {
   "cell_type": "markdown",
   "metadata": {},
   "source": [
    "## plotting and result saving"
   ]
  },
  {
   "cell_type": "code",
   "execution_count": null,
   "metadata": {},
   "outputs": [],
   "source": [
    "IFS_A_noiseless.save_results(\"IFS_A_noiseless_example\")\n",
    "IFS_A_noiseless.plot()"
   ]
  },
  {
   "cell_type": "markdown",
   "metadata": {},
   "source": [
    "## aperiodic Fourier reconstruction noisy\n",
    "\n",
    "## instanciation"
   ]
  },
  {
   "cell_type": "code",
   "execution_count": null,
   "metadata": {},
   "outputs": [],
   "source": [
    "K = 5\n",
    "M = 21\n",
    "tau = 1.\n",
    "L = 5 * M\n",
    "P = 5\n",
    "\n",
    "IFS_noisy = IFS(K, M, tau, L, periodic_spectrum = False)\n",
    "IFS_noisy.setup()\n",
    "IFS_noisy.add_noise(P = P)"
   ]
  },
  {
   "cell_type": "markdown",
   "metadata": {},
   "source": [
    "## reconstruction"
   ]
  },
  {
   "cell_type": "code",
   "execution_count": null,
   "metadata": {},
   "outputs": [],
   "source": [
    "IFS_noisy.reconstruction()"
   ]
  },
  {
   "cell_type": "code",
   "execution_count": null,
   "metadata": {},
   "outputs": [],
   "source": [
    "IFS_noisy.save_results(\"IFS_noisy\")"
   ]
  },
  {
   "cell_type": "code",
   "execution_count": null,
   "metadata": {},
   "outputs": [],
   "source": [
    "IFS_noisy.show_results()"
   ]
  },
  {
   "cell_type": "code",
   "execution_count": null,
   "metadata": {},
   "outputs": [],
   "source": [
    "IFS_noisy.plot()"
   ]
  },
  {
   "cell_type": "markdown",
   "metadata": {},
   "source": [
    "# FRI curve"
   ]
  },
  {
   "cell_type": "markdown",
   "metadata": {},
   "source": [
    "## instanciation"
   ]
  },
  {
   "cell_type": "code",
   "execution_count": null,
   "metadata": {},
   "outputs": [],
   "source": [
    "from fri_oo.fri_curve import FriCurve as FRIC\n",
    "\n",
    "tau_x = 1 \n",
    "tau_y = 1\n",
    "\n",
    "friCurve = FRIC(tau_x, tau_y)"
   ]
  },
  {
   "cell_type": "code",
   "execution_count": null,
   "metadata": {},
   "outputs": [],
   "source": [
    "M0 = 22\n",
    "N0 = 22\n",
    "P = 5\n",
    "B_x = 25\n",
    "B_y = 25\n",
    "\n",
    "friCurve.setup(M0, N0, B_x, B_y, P)"
   ]
  },
  {
   "cell_type": "code",
   "execution_count": null,
   "metadata": {},
   "outputs": [],
   "source": [
    "friCurve.reconstruction(max_ini = 5, verbose = True)"
   ]
  },
  {
   "cell_type": "code",
   "execution_count": null,
   "metadata": {},
   "outputs": [],
   "source": [
    "friCurve.save_results('friCurve')"
   ]
  },
  {
   "cell_type": "code",
   "execution_count": null,
   "metadata": {},
   "outputs": [],
   "source": [
    "friCurve.plot(save_fig = True, fig_format = 'jpg')"
   ]
  }
 ],
 "metadata": {
  "kernelspec": {
   "display_name": "Python 3",
   "language": "python",
   "name": "python3"
  },
  "language_info": {
   "codemirror_mode": {
    "name": "ipython",
    "version": 3
   },
   "file_extension": ".py",
   "mimetype": "text/x-python",
   "name": "python",
   "nbconvert_exporter": "python",
   "pygments_lexer": "ipython3",
   "version": "3.7.0"
  }
 },
 "nbformat": 4,
 "nbformat_minor": 2
}
